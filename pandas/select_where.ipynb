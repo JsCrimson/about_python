
a = 5
print(4 + 6)
print('meow')



