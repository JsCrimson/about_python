
a = 5
print(4 + 6)



